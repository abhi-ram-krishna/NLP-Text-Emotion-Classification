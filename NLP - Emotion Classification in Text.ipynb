{
 "cells": [
  {
   "cell_type": "markdown",
   "id": "4c0d0cf8",
   "metadata": {},
   "source": [
    "# Emotion Classification in Text"
   ]
  },
  {
   "cell_type": "markdown",
   "id": "4e4251c7",
   "metadata": {},
   "source": [
    "The objective of this project is to develop machine learning models to classify emotions in text samples. Dataset used for classification can be downloaded from : https://drive.google.com/file/d/1HWczIICsMpaL8EJyu48ZvRFcXx3_pcnb/view?usp=drive_link"
   ]
  },
  {
   "cell_type": "markdown",
   "id": "0d4d3263",
   "metadata": {},
   "source": [
    "        "
   ]
  },
  {
   "cell_type": "markdown",
   "id": "a385abc4",
   "metadata": {},
   "source": [
    "# Importing General Libraries 📥"
   ]
  },
  {
   "cell_type": "code",
   "execution_count": 1,
   "id": "74922683",
   "metadata": {},
   "outputs": [],
   "source": [
    "# installing NLTK for NLP\n",
    "#pip install nltk"
   ]
  },
  {
   "cell_type": "code",
   "execution_count": 2,
   "id": "34fb6561",
   "metadata": {},
   "outputs": [],
   "source": [
    "# downloading NLTK modules"
   ]
  },
  {
   "cell_type": "code",
   "execution_count": 3,
   "id": "abfd572e",
   "metadata": {},
   "outputs": [
    {
     "name": "stdout",
     "output_type": "stream",
     "text": [
      "showing info https://raw.githubusercontent.com/nltk/nltk_data/gh-pages/index.xml\n"
     ]
    },
    {
     "data": {
      "text/plain": [
       "True"
      ]
     },
     "execution_count": 3,
     "metadata": {},
     "output_type": "execute_result"
    }
   ],
   "source": [
    "import nltk\n",
    "nltk.download()"
   ]
  },
  {
   "cell_type": "code",
   "execution_count": 4,
   "id": "4745b886",
   "metadata": {},
   "outputs": [],
   "source": [
    "# libraries for EDA and visualization\n",
    "import numpy as numpy\n",
    "import pandas as pd\n",
    "import matplotlib.pyplot as plt\n",
    "import seaborn as sns\n",
    "%matplotlib inline\n",
    "pd.pandas.set_option('display.max_columns',None)"
   ]
  },
  {
   "cell_type": "markdown",
   "id": "255b49e5",
   "metadata": {},
   "source": [
    "    "
   ]
  },
  {
   "cell_type": "markdown",
   "id": "0413229e",
   "metadata": {},
   "source": [
    "# Importing Dataset 📥 "
   ]
  },
  {
   "cell_type": "code",
   "execution_count": 5,
   "id": "9fdb0557",
   "metadata": {},
   "outputs": [],
   "source": [
    "# loading dataset\n",
    "df=pd.read_csv('nlp_dataset.csv')"
   ]
  },
  {
   "cell_type": "code",
   "execution_count": 6,
   "id": "c51041b3",
   "metadata": {},
   "outputs": [
    {
     "data": {
      "text/html": [
       "<div>\n",
       "<style scoped>\n",
       "    .dataframe tbody tr th:only-of-type {\n",
       "        vertical-align: middle;\n",
       "    }\n",
       "\n",
       "    .dataframe tbody tr th {\n",
       "        vertical-align: top;\n",
       "    }\n",
       "\n",
       "    .dataframe thead th {\n",
       "        text-align: right;\n",
       "    }\n",
       "</style>\n",
       "<table border=\"1\" class=\"dataframe\">\n",
       "  <thead>\n",
       "    <tr style=\"text-align: right;\">\n",
       "      <th></th>\n",
       "      <th>Comment</th>\n",
       "      <th>Emotion</th>\n",
       "    </tr>\n",
       "  </thead>\n",
       "  <tbody>\n",
       "    <tr>\n",
       "      <th>0</th>\n",
       "      <td>i seriously hate one subject to death but now ...</td>\n",
       "      <td>fear</td>\n",
       "    </tr>\n",
       "    <tr>\n",
       "      <th>1</th>\n",
       "      <td>im so full of life i feel appalled</td>\n",
       "      <td>anger</td>\n",
       "    </tr>\n",
       "    <tr>\n",
       "      <th>2</th>\n",
       "      <td>i sit here to write i start to dig out my feel...</td>\n",
       "      <td>fear</td>\n",
       "    </tr>\n",
       "    <tr>\n",
       "      <th>3</th>\n",
       "      <td>ive been really angry with r and i feel like a...</td>\n",
       "      <td>joy</td>\n",
       "    </tr>\n",
       "    <tr>\n",
       "      <th>4</th>\n",
       "      <td>i feel suspicious if there is no one outside l...</td>\n",
       "      <td>fear</td>\n",
       "    </tr>\n",
       "  </tbody>\n",
       "</table>\n",
       "</div>"
      ],
      "text/plain": [
       "                                             Comment Emotion\n",
       "0  i seriously hate one subject to death but now ...    fear\n",
       "1                 im so full of life i feel appalled   anger\n",
       "2  i sit here to write i start to dig out my feel...    fear\n",
       "3  ive been really angry with r and i feel like a...     joy\n",
       "4  i feel suspicious if there is no one outside l...    fear"
      ]
     },
     "execution_count": 6,
     "metadata": {},
     "output_type": "execute_result"
    }
   ],
   "source": [
    "# header rows\n",
    "df.head()"
   ]
  },
  {
   "cell_type": "code",
   "execution_count": 7,
   "id": "313a45f4",
   "metadata": {},
   "outputs": [
    {
     "name": "stdout",
     "output_type": "stream",
     "text": [
      "<class 'pandas.core.frame.DataFrame'>\n",
      "RangeIndex: 5937 entries, 0 to 5936\n",
      "Data columns (total 2 columns):\n",
      " #   Column   Non-Null Count  Dtype \n",
      "---  ------   --------------  ----- \n",
      " 0   Comment  5937 non-null   object\n",
      " 1   Emotion  5937 non-null   object\n",
      "dtypes: object(2)\n",
      "memory usage: 92.9+ KB\n"
     ]
    }
   ],
   "source": [
    "# dataset info\n",
    "df.info()"
   ]
  },
  {
   "cell_type": "markdown",
   "id": "212df7df",
   "metadata": {},
   "source": [
    "> ### The dataset contains feature '**Comment**' which is text data and target '**Emotion**' indicating the emotion expressed in text."
   ]
  },
  {
   "cell_type": "code",
   "execution_count": 8,
   "id": "c0c5f9f0",
   "metadata": {},
   "outputs": [
    {
     "data": {
      "image/png": "[encoded data removed]",
      "text/plain": [
       "<Figure size 600x400 with 1 Axes>"
      ]
     },
     "metadata": {},
     "output_type": "display_data"
    }
   ],
   "source": [
    "# plotting entries for each emotion\n",
    "plt.figure(figsize=(6,4))\n",
    "sns.countplot(data=df, x='Emotion', hue='Emotion', palette='plasma')\n",
    "plt.show()"
   ]
  },
  {
   "cell_type": "code",
   "execution_count": 9,
   "id": "cea65f40",
   "metadata": {},
   "outputs": [
    {
     "data": {
      "text/plain": [
       "Emotion\n",
       "anger    2000\n",
       "joy      2000\n",
       "fear     1937\n",
       "Name: count, dtype: int64"
      ]
     },
     "execution_count": 9,
     "metadata": {},
     "output_type": "execute_result"
    }
   ],
   "source": [
    "# value count\n",
    "df.Emotion.value_counts()"
   ]
  },
  {
   "cell_type": "markdown",
   "id": "e781e28a",
   "metadata": {},
   "source": [
    "> ### The given dataset only has 3 classes of emotions: anger, joy and fear"
   ]
  },
  {
   "cell_type": "markdown",
   "id": "e7846663",
   "metadata": {},
   "source": [
    "    "
   ]
  },
  {
   "cell_type": "markdown",
   "id": "62cfac3d",
   "metadata": {},
   "source": [
    "# Data Preprocessing 🔁"
   ]
  },
  {
   "cell_type": "markdown",
   "id": "a2d4725e",
   "metadata": {},
   "source": [
    " **we will perform the following steps for preprocessing data:**\n",
    "- `Text Cleaning`: *remove special characters, punctuation, and convert all text to lowercase*         \n",
    "- `Tokenization`: *split the text into individual words or tokens*            \n",
    "- `Stopword Removal`: *remove common words like \"the\", \"and\", etc. that are irrelevant in determining the sentiment*          \n",
    "- `Lemmatization`: *reduce words to their base form, known as the lemma* <br><br>              \n",
    "**Note: Preprocessing steps remove irrelevant tokens in the context of emotion detection or classification.**"
   ]
  },
  {
   "cell_type": "code",
   "execution_count": 10,
   "id": "e0759efa",
   "metadata": {},
   "outputs": [],
   "source": [
    "import re\n",
    "from nltk.tokenize import word_tokenize\n",
    "from nltk.corpus import stopwords\n",
    "from nltk.stem.wordnet import WordNetLemmatizer\n",
    "from nltk.stem.porter import PorterStemmer\n",
    "\n",
    "#porter = PorterStemmer() #Creates an instance of the PorterStemmer class\n",
    "wordnet = WordNetLemmatizer() #Creates an instance of the WordNetLemmatizer class\n",
    "\n",
    "# function for comment cleaning and preprocessing\n",
    "def preprocess_comment(comment):\n",
    "    comment = comment.lower() #converting comment to lowercase\n",
    "    comment = re.sub(r'[^a-zA-Z]', ' ', comment) #substituting any characters other than alphabets with ' '\n",
    "    tokens = word_tokenize(comment) #tokenizing comments\n",
    "    stop_words = set(stopwords.words('english') + ['im', 'ive', 'also']) #adding specific tokens to stop words\n",
    "    tokens = [t for t in tokens if t not in stop_words] #removing stopwords\n",
    "    #tokens = [porter.stem(t) for t in tokens] #stemming tokens\n",
    "    tokens = [wordnet.lemmatize(t) for t in tokens] #lemmatizing tokens\n",
    "    return ' '.join(tokens) #returning cleaned comment"
   ]
  },
  {
   "cell_type": "markdown",
   "id": "ecfdafa7",
   "metadata": {},
   "source": [
    "> ### I added *'im'*, *'ive'*, and *'also'* to the stopwords list because they frequently appeared at the beginning of comments after removing the default stopwords, and they were irrelevant."
   ]
  },
  {
   "cell_type": "code",
   "execution_count": 11,
   "id": "19151769",
   "metadata": {},
   "outputs": [],
   "source": [
    "# comment preprocessing\n",
    "df['Cleaned_Comment']=df['Comment'].apply(preprocess_comment)"
   ]
  },
  {
   "cell_type": "code",
   "execution_count": 12,
   "id": "dd5e05fb",
   "metadata": {},
   "outputs": [
    {
     "data": {
      "text/html": [
       "<div>\n",
       "<style scoped>\n",
       "    .dataframe tbody tr th:only-of-type {\n",
       "        vertical-align: middle;\n",
       "    }\n",
       "\n",
       "    .dataframe tbody tr th {\n",
       "        vertical-align: top;\n",
       "    }\n",
       "\n",
       "    .dataframe thead th {\n",
       "        text-align: right;\n",
       "    }\n",
       "</style>\n",
       "<table border=\"1\" class=\"dataframe\">\n",
       "  <thead>\n",
       "    <tr style=\"text-align: right;\">\n",
       "      <th></th>\n",
       "      <th>Comment</th>\n",
       "      <th>Emotion</th>\n",
       "      <th>Cleaned_Comment</th>\n",
       "    </tr>\n",
       "  </thead>\n",
       "  <tbody>\n",
       "    <tr>\n",
       "      <th>178</th>\n",
       "      <td>i always notice even though she is fabulous at...</td>\n",
       "      <td>fear</td>\n",
       "      <td>always notice even though fabulous hiding acco...</td>\n",
       "    </tr>\n",
       "    <tr>\n",
       "      <th>1235</th>\n",
       "      <td>i love that its adoption of a teenager which m...</td>\n",
       "      <td>fear</td>\n",
       "      <td>love adoption teenager many people feel afraid...</td>\n",
       "    </tr>\n",
       "    <tr>\n",
       "      <th>3319</th>\n",
       "      <td>i feel shaken open as though my heart were bro...</td>\n",
       "      <td>fear</td>\n",
       "      <td>feel shaken open though heart broken word speak</td>\n",
       "    </tr>\n",
       "    <tr>\n",
       "      <th>4140</th>\n",
       "      <td>i guess a similar viewpoint might be when we f...</td>\n",
       "      <td>joy</td>\n",
       "      <td>guess similar viewpoint might feel smug better...</td>\n",
       "    </tr>\n",
       "    <tr>\n",
       "      <th>866</th>\n",
       "      <td>i want to find my essence and my substance and...</td>\n",
       "      <td>fear</td>\n",
       "      <td>want find essence substance feel scared empty ...</td>\n",
       "    </tr>\n",
       "    <tr>\n",
       "      <th>4476</th>\n",
       "      <td>i love the feeling of running in the cold when...</td>\n",
       "      <td>anger</td>\n",
       "      <td>love feeling running cold see breath cold air ...</td>\n",
       "    </tr>\n",
       "    <tr>\n",
       "      <th>1048</th>\n",
       "      <td>i don t understand why musicians sometimes fee...</td>\n",
       "      <td>fear</td>\n",
       "      <td>understand musician sometimes feel inhibited</td>\n",
       "    </tr>\n",
       "    <tr>\n",
       "      <th>40</th>\n",
       "      <td>i looked at what had happened to us in two gen...</td>\n",
       "      <td>anger</td>\n",
       "      <td>looked happened u two generation looked happen...</td>\n",
       "    </tr>\n",
       "    <tr>\n",
       "      <th>1532</th>\n",
       "      <td>i feel like i should have some wine or somethi...</td>\n",
       "      <td>joy</td>\n",
       "      <td>feel like wine something amused</td>\n",
       "    </tr>\n",
       "    <tr>\n",
       "      <th>1586</th>\n",
       "      <td>i think i can finally articulate it the prius ...</td>\n",
       "      <td>joy</td>\n",
       "      <td>think finally articulate prius shiny happy al ...</td>\n",
       "    </tr>\n",
       "  </tbody>\n",
       "</table>\n",
       "</div>"
      ],
      "text/plain": [
       "                                                Comment Emotion  \\\n",
       "178   i always notice even though she is fabulous at...    fear   \n",
       "1235  i love that its adoption of a teenager which m...    fear   \n",
       "3319  i feel shaken open as though my heart were bro...    fear   \n",
       "4140  i guess a similar viewpoint might be when we f...     joy   \n",
       "866   i want to find my essence and my substance and...    fear   \n",
       "4476  i love the feeling of running in the cold when...   anger   \n",
       "1048  i don t understand why musicians sometimes fee...    fear   \n",
       "40    i looked at what had happened to us in two gen...   anger   \n",
       "1532  i feel like i should have some wine or somethi...     joy   \n",
       "1586  i think i can finally articulate it the prius ...     joy   \n",
       "\n",
       "                                        Cleaned_Comment  \n",
       "178   always notice even though fabulous hiding acco...  \n",
       "1235  love adoption teenager many people feel afraid...  \n",
       "3319    feel shaken open though heart broken word speak  \n",
       "4140  guess similar viewpoint might feel smug better...  \n",
       "866   want find essence substance feel scared empty ...  \n",
       "4476  love feeling running cold see breath cold air ...  \n",
       "1048       understand musician sometimes feel inhibited  \n",
       "40    looked happened u two generation looked happen...  \n",
       "1532                    feel like wine something amused  \n",
       "1586  think finally articulate prius shiny happy al ...  "
      ]
     },
     "execution_count": 12,
     "metadata": {},
     "output_type": "execute_result"
    }
   ],
   "source": [
    "# inspecting random rows\n",
    "df.sample(10)"
   ]
  },
  {
   "cell_type": "markdown",
   "id": "6d9f571d",
   "metadata": {},
   "source": [
    "> ### Stemming produced incorrect results, so it was skipped, while the lemmatizer did not appear to make any significant changes"
   ]
  },
  {
   "cell_type": "code",
   "execution_count": 13,
   "id": "66678a89",
   "metadata": {},
   "outputs": [],
   "source": [
    "#df.to_csv('cleaned.csv')"
   ]
  },
  {
   "cell_type": "markdown",
   "id": "b50a4d09",
   "metadata": {},
   "source": [
    "<br>"
   ]
  },
  {
   "cell_type": "markdown",
   "id": "e4a8a8c0",
   "metadata": {},
   "source": [
    "#  Feature Extraction ✨"
   ]
  },
  {
   "cell_type": "markdown",
   "id": "89e30cb2",
   "metadata": {},
   "source": [
    "We'll use `TfidfVectorizer` from the `sklearn library` to transform the text data into numerical features. The TfidfVectorizer uses the Term Frequency-Inverse Document Frequency (TF-IDF) technique to weight the importance of each word in the text data (`TF-IDF= TF * IDF`).  TF-IDF method not only considers the frequency of words in each document but also how unique they are to the entire dataset. This helps to reduce the dimensionality of the feature space and improve model performance."
   ]
  },
  {
   "cell_type": "code",
   "execution_count": 14,
   "id": "b6c819ff",
   "metadata": {},
   "outputs": [],
   "source": [
    "from sklearn.feature_extraction.text import TfidfVectorizer\n",
    "\n",
    "tfidf_vectorizer = TfidfVectorizer()\n",
    "X = tfidf_vectorizer.fit_transform(df['Cleaned_Comment']) # features\n",
    "Y = df['Emotion'] # target"
   ]
  },
  {
   "cell_type": "code",
   "execution_count": 15,
   "id": "64a29a1d",
   "metadata": {},
   "outputs": [
    {
     "data": {
      "text/plain": [
       "array(['aa', 'aac', 'aaron', ..., 'zonisamide', 'zq', 'zumba'],\n",
       "      dtype=object)"
      ]
     },
     "execution_count": 15,
     "metadata": {},
     "output_type": "execute_result"
    }
   ],
   "source": [
    "# vocabulary list\n",
    "tfidf_vectorizer.get_feature_names_out()"
   ]
  },
  {
   "cell_type": "code",
   "execution_count": 16,
   "id": "2be91be0",
   "metadata": {},
   "outputs": [
    {
     "name": "stdout",
     "output_type": "stream",
     "text": [
      "[[0. 0. 0. ... 0. 0. 0.]\n",
      " [0. 0. 0. ... 0. 0. 0.]\n",
      " [0. 0. 0. ... 0. 0. 0.]\n",
      " ...\n",
      " [0. 0. 0. ... 0. 0. 0.]\n",
      " [0. 0. 0. ... 0. 0. 0.]\n",
      " [0. 0. 0. ... 0. 0. 0.]]\n"
     ]
    }
   ],
   "source": [
    "# TF-IDF matrix\n",
    "print(X.toarray())"
   ]
  },
  {
   "cell_type": "markdown",
   "id": "7d3bd1a0",
   "metadata": {},
   "source": [
    "<br>"
   ]
  },
  {
   "cell_type": "markdown",
   "id": "1efe6549",
   "metadata": {},
   "source": [
    "# Model Development ⚙️"
   ]
  },
  {
   "cell_type": "markdown",
   "id": "1e46101b",
   "metadata": {},
   "source": [
    "We will implement two machine learning models: `Naive Bayes` and `Support Vector Machine` to classify comments"
   ]
  },
  {
   "cell_type": "code",
   "execution_count": 17,
   "id": "c24173b0",
   "metadata": {},
   "outputs": [],
   "source": [
    "#splitting train-test data\n",
    "from sklearn.model_selection import train_test_split\n",
    "\n",
    "X_train, X_test, Y_train, Y_test = train_test_split(X, Y, test_size=0.2)"
   ]
  },
  {
   "cell_type": "markdown",
   "id": "631eca4c",
   "metadata": {},
   "source": [
    "### a. Naive Bayes"
   ]
  },
  {
   "cell_type": "markdown",
   "id": "604f4d7d",
   "metadata": {},
   "source": [
    "Naive Bayes is a probabilistic classifier based on Baye's theorem. It assumes that features are independent of each other, which is often not true in real-world scenarios, but the model can still perform well in practice. For text classification, it calculates the probability of each class (emotion) given the TF-IDF vectors for input features (tokens), and select the emotion class with the highest posterior probability as the predicted class."
   ]
  },
  {
   "cell_type": "code",
   "execution_count": 18,
   "id": "38255e91",
   "metadata": {},
   "outputs": [],
   "source": [
    "from sklearn.naive_bayes import MultinomialNB\n",
    "\n",
    "nb_model = MultinomialNB()\n",
    "nb_model.fit(X_train, Y_train)\n",
    "nb_predictions = nb_model.predict(X_test)"
   ]
  },
  {
   "cell_type": "markdown",
   "id": "0d5cc451",
   "metadata": {},
   "source": [
    "### b. Support Vector Machine"
   ]
  },
  {
   "cell_type": "markdown",
   "id": "556c9287",
   "metadata": {},
   "source": [
    "SVM is a powerful algorithm that finds the hyperplane that best separates different classes in the feature space. For multi-class problems like emotion classification, the model construct a hyperplane in the feature space that maximally separates the emotion classesbased on the TF-IDF vectors, and  classify new instances by determining which side of the hyperplane they fall on."
   ]
  },
  {
   "cell_type": "code",
   "execution_count": 19,
   "id": "b4a2503d",
   "metadata": {},
   "outputs": [],
   "source": [
    "from sklearn.svm import LinearSVC\n",
    "svm_model = LinearSVC(dual='auto')\n",
    "svm_model.fit(X_train, Y_train)\n",
    "svm_predictions = svm_model.predict(X_test)"
   ]
  },
  {
   "cell_type": "markdown",
   "id": "3398d511",
   "metadata": {},
   "source": [
    "<br>"
   ]
  },
  {
   "cell_type": "markdown",
   "id": "80a9f327",
   "metadata": {},
   "source": [
    "# Model Comparison 📈"
   ]
  },
  {
   "cell_type": "code",
   "execution_count": 20,
   "id": "dfcdb362",
   "metadata": {},
   "outputs": [
    {
     "name": "stdout",
     "output_type": "stream",
     "text": [
      "Naive Bayes Accuracy: 0.8947811447811448\n",
      "Naive Bayes F1-score: 0.8947965130153684\n",
      "\n",
      "SVM Accuracy: 0.9377104377104377\n",
      "SVM F1-score: 0.9374968770484271\n"
     ]
    }
   ],
   "source": [
    "from sklearn.metrics import accuracy_score, f1_score\n",
    "\n",
    "# Naive Bayes model\n",
    "print(\"Naive Bayes Accuracy:\", accuracy_score(Y_test, nb_predictions))\n",
    "print(\"Naive Bayes F1-score:\", f1_score(Y_test, nb_predictions, average='macro'))\n",
    "\n",
    "print()\n",
    "\n",
    "# Support Vector Machine model\n",
    "print(\"SVM Accuracy:\", accuracy_score(Y_test, svm_predictions))\n",
    "print(\"SVM F1-score:\", f1_score(Y_test, svm_predictions, average='macro'))"
   ]
  },
  {
   "cell_type": "code",
   "execution_count": 21,
   "id": "693bba66",
   "metadata": {},
   "outputs": [
    {
     "data": {
      "image/png": "[encoded data removed]",
      "text/plain": [
       "<Figure size 500x500 with 2 Axes>"
      ]
     },
     "metadata": {},
     "output_type": "display_data"
    },
    {
     "data": {
      "image/png": "[encoded data removed]",
      "text/plain": [
       "<Figure size 500x500 with 2 Axes>"
      ]
     },
     "metadata": {},
     "output_type": "display_data"
    }
   ],
   "source": [
    "from sklearn.metrics import confusion_matrix\n",
    "\n",
    "def plot_confusion_matrix(y_true, y_pred, classes, model_name):\n",
    "    cm = confusion_matrix(y_true, y_pred)\n",
    "    fig, ax = plt.subplots(figsize=(5, 5))\n",
    "    sns.heatmap(cm, annot=True, fmt='.2f', cmap='plasma', square=True, ax=ax)\n",
    "    ax.set_xlabel('Predicted label', fontsize=12)\n",
    "    ax.set_ylabel('True label', fontsize=12)\n",
    "    ax.set_title(f'Confusion Matrix - {model_name}', fontsize=14)\n",
    "    ax.set_xticklabels(classes, rotation=45, ha='right')\n",
    "    ax.set_yticklabels(classes, rotation=0)\n",
    "    plt.show()\n",
    "\n",
    "classes = ['anger','fear','joy']  # \n",
    "plot_confusion_matrix(Y_test, nb_predictions, classes, 'NB')\n",
    "plot_confusion_matrix(Y_test, svm_predictions, classes, 'SVM')"
   ]
  },
  {
   "cell_type": "markdown",
   "id": "02ffbf44",
   "metadata": {},
   "source": [
    ">  **SVM model** showed significantly higher overall accuracy, indicating it correctly classified a larger proportion of the test samples. This might be because SVMs are particularly effective in high-dimensional spaces, which is the characteristic of text data after vectorization (TF-IDF). Unlike Naive Bayes, SVM doesn't assume feature independence, which might be more realistic for text data where word occurrences are often related."
   ]
  },
  {
   "cell_type": "code",
   "execution_count": 22,
   "id": "a585356d",
   "metadata": {},
   "outputs": [
    {
     "data": {
      "text/plain": [
       "Emotion\n",
       "joy      407\n",
       "fear     396\n",
       "anger    385\n",
       "Name: count, dtype: int64"
      ]
     },
     "execution_count": 22,
     "metadata": {},
     "output_type": "execute_result"
    }
   ],
   "source": [
    "Y_test.value_counts()"
   ]
  }
 ],
 "metadata": {
  "kernelspec": {
   "display_name": "Python 3 (ipykernel)",
   "language": "python",
   "name": "python3"
  },
  "language_info": {
   "codemirror_mode": {
    "name": "ipython",
    "version": 3
   },
   "file_extension": ".py",
   "mimetype": "text/x-python",
   "name": "python",
   "nbconvert_exporter": "python",
   "pygments_lexer": "ipython3",
   "version": "3.12.3"
  }
 },
 "nbformat": 4,
 "nbformat_minor": 5
}
